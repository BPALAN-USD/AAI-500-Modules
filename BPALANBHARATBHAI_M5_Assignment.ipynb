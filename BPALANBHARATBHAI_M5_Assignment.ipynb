{
 "cells": [
  {
   "cell_type": "markdown",
   "metadata": {},
   "source": [
    "# Assignment 5.1\n",
    "\n",
    "Name: Bhavin Palan\n",
    "\n",
    "Date: 06/09/25"
   ]
  },
  {
   "cell_type": "markdown",
   "metadata": {},
   "source": [
    "For this assignment, you will refer to the textbook to solve the practice exercises. **Use Python to answer any coding problems (not R, even if indicated in your textbook).** Use Jupyter Notebook, Google Colab, or a similar software program to complete your assignment. Submit your answers as a **PDF or HTML** file. As a best practice, always label your axes and provide titles for any graphs generated on this assignment. Round all quantitative answers to 2 decimal places."
   ]
  },
  {
   "cell_type": "markdown",
   "metadata": {},
   "source": [
    "## Problem 5.1."
   ]
  },
  {
   "cell_type": "markdown",
   "metadata": {},
   "source": [
    "Introducing notation for a parameter, state the following hypotheses in terms of the parameter\n",
    "values and indicate whether it is a null hypothesis or an alternative hypothesis."
   ]
  },
  {
   "cell_type": "markdown",
   "metadata": {},
   "source": [
    "(a) The proportion of all adults in the UK who favor legalized gambling equals 0.50.\n"
   ]
  },
  {
   "cell_type": "markdown",
   "metadata": {},
   "source": [
    "#### Answer a):\n",
    "##### Null Hypothesis :=> The Proportion of all adults in UK who favor legalizing gambling is 50 %\n",
    "##### Alternative Hypothesis :=> The Proportion of all adults in UK who favor legalizing gambling is not 50%.\n",
    "##### Alternative Hypothesis :=> The Proportion of all adults in UK who favor legalizing gambling is Greater than 50%.\n",
    "##### Alternative Hypothesis :=> The Proportion of all adults in UK who favor legalizing gambling is Less than 50%."
   ]
  },
  {
   "cell_type": "markdown",
   "metadata": {},
   "source": [
    "(b) The correlation for Australian adults between smoking (number of cigarettes per day) and blood pressure is positive."
   ]
  },
  {
   "cell_type": "markdown",
   "metadata": {},
   "source": [
    "#### Answer b):\n",
    "##### Alternative Hypothesis :=> The correlation for Australian adults between smoking (number of cigarettes per day) and blood pressure is positive.\n",
    "##### Null Hypothesis :=> There is no correlation for Australian adults between smoking (number of cigarettes per day) and blood pressure."
   ]
  },
  {
   "cell_type": "markdown",
   "metadata": {},
   "source": [
    "(c) The mean grade point average this year of all college graduates in the U.S. is the same for females and males."
   ]
  },
  {
   "cell_type": "markdown",
   "metadata": {},
   "source": [
    "#### Answer c):\n",
    "##### Null Hypothesis :=> The mean grade point average this year of all college graduates in the U.S. is the same for females and males.\n",
    "##### Alternative Hypothesis :=> The mean grade point average this year of all college graduates in the U.S. is the more for Females compare to Males.\n",
    "##### Alternative Hypothesis :=> The mean grade point average this year of all college graduates in the U.S. is the more for Males compare to Females.\n",
    "##### Alternative Hypothesis :=> The mean grade point average this year of all college graduates in the U.S. is not same for Males and Females."
   ]
  },
  {
   "cell_type": "markdown",
   "metadata": {},
   "source": [
    "## Problem 5.6."
   ]
  },
  {
   "cell_type": "markdown",
   "metadata": {},
   "source": [
    "Before a Presidential election, polls are taken in two swing states. The Republican candidate\n",
    "was preferred by 59 of the 100 people sampled in state A and by 525 of 1000 sampled in state\n",
    "B. Treat these as independent binomial samples, where the parameter $\\pi$ is the population\n",
    "proportion voting Republican in the state.\n"
   ]
  },
  {
   "cell_type": "markdown",
   "metadata": {},
   "source": [
    "(a) If we can treat these polls as if the samples were random, use significance tests of $H_0$:\n",
    "$\\pi  = 0.50$ against $H_a:  \\pi > 0.50$ to determine which state has greater evidence supporting a\n",
    "Republican victory. Explain your reasoning.\n"
   ]
  },
  {
   "cell_type": "markdown",
   "metadata": {},
   "source": [
    "**Answer a)**\n",
    "\n",
    "Given that Polls shows that for State A, 59 of 100 People prefers Republican Candidate while for State B, 525 of 1000 People prefer Republican Candidate.\n",
    "\n",
    "Null Hypothesis: People Favoring Republican Candidate is 50%.  $H_0$: $\\pi  = 0.50$ \n",
    "\n",
    "Alternative Hypothesis; People Favoring Republican Candidate is more than 50% $H_a:  \\pi > 0.50$ "
   ]
  },
  {
   "cell_type": "code",
   "execution_count": 1,
   "metadata": {},
   "outputs": [
    {
     "name": "stdout",
     "output_type": "stream",
     "text": [
      "State A has z-test= 1.8299, p-value = 0.0336\n",
      "State B has z-test= 1.5831, p-value = 0.0567\n"
     ]
    }
   ],
   "source": [
    "from statsmodels.stats.proportion import proportions_ztest\n",
    "\n",
    "## State A\n",
    "favorRepublican_a = 59\n",
    "sampleSize_a = 100\n",
    "ztest_a, pvalue_a = proportions_ztest(count=favorRepublican_a, nobs=sampleSize_a, value=0.5, alternative='larger')\n",
    "\n",
    "## State B\n",
    "favorRepublican_b = 525\n",
    "sampleSize_b = 1000\n",
    "ztest_b, pvalue_b = proportions_ztest(count=favorRepublican_b, nobs=sampleSize_b, value=0.5, alternative='larger')\n",
    "\n",
    "print(f\"State A has z-test= {ztest_a:.4f}, p-value = {pvalue_a:.4f}\")\n",
    "print(f\"State B has z-test= {ztest_b:.4f}, p-value = {pvalue_b:.4f}\")\n"
   ]
  },
  {
   "cell_type": "markdown",
   "metadata": {},
   "source": [
    "**From above, p-value for State B is > 0.05 while for State A < 0.05. So State A shows strong evidence of people favoring Republican Candidates while State B doesn't even though Sample Size is high**"
   ]
  },
  {
   "cell_type": "markdown",
   "metadata": {},
   "source": [
    "(b) Conduct a Bayesian analysis to answer the question in (a) by finding in each case the\n",
    "posterior $P(\\pi < 0.50)$, corresponding to the *P-* value in (a). Use beta(50, 50) priors, which\n",
    "have standard deviation 0.05 and reflect the pollster’s strong prior belief that $\\pi$ almost\n",
    "surely is between 0.35 and 0.65. Explain any differences between conclusions."
   ]
  },
  {
   "cell_type": "markdown",
   "metadata": {},
   "source": [
    "`Your answer goes here`"
   ]
  },
  {
   "cell_type": "code",
   "execution_count": 5,
   "metadata": {},
   "outputs": [
    {
     "name": "stdout",
     "output_type": "stream",
     "text": [
      "State A: P(> 0.5) = 0.8991\n",
      "State B: P(> 0.5) = 0.9343\n"
     ]
    }
   ],
   "source": [
    "from scipy.stats import beta\n",
    "\n",
    "## State A\n",
    "favorRepublican_a = 59\n",
    "sampleSize_a = 100\n",
    "\n",
    "## State B\n",
    "favorRepublican_b = 525\n",
    "sampleSize_b = 1000\n",
    "\n",
    "## Prior Belief => 50,50 that people support republicans\n",
    "alpha_prior, beta_prior = 50, 50\n",
    "\n",
    "# Posterior parameters\n",
    "alpha_posterior_a, beta_posterior_a = alpha_prior + favorRepublican_a, beta_prior + (sampleSize_a - favorRepublican_a)\n",
    "alpha_posterior_b, beta_posterior_b = alpha_prior + favorRepublican_b, beta_prior + (sampleSize_b - favorRepublican_b)\n",
    "\n",
    "# Posterior probabilities P(π > 0.5)\n",
    "probability_a = 1 - beta.cdf(0.5, alpha_posterior_a, beta_posterior_a)\n",
    "probability_b = 1 - beta.cdf(0.5, alpha_posterior_b, beta_posterior_b)\n",
    "\n",
    "print(f\"State A: P(> 0.5) = {probability_a:.4f}\")\n",
    "print(f\"State B: P(> 0.5) = {probability_b:.4f}\")\n"
   ]
  },
  {
   "cell_type": "markdown",
   "metadata": {},
   "source": [
    "**From above, we can see that State B gives strong confidence compare to State A with Republican Lead**"
   ]
  },
  {
   "cell_type": "markdown",
   "metadata": {},
   "source": [
    "## Problem 5.8."
   ]
  },
  {
   "cell_type": "markdown",
   "metadata": {},
   "source": [
    "For the `Students` data file at the text website, analyze political ideology."
   ]
  },
  {
   "cell_type": "markdown",
   "metadata": {},
   "source": [
    "(a) Test whether the population mean $\\mu$ differs from 4.0, the moderate response. Report the\n",
    "*P*-value, and interpret. Make a conclusion using $\\alpha$ - level = 0.05."
   ]
  },
  {
   "cell_type": "markdown",
   "metadata": {},
   "source": [
    "`Your answer goes here`"
   ]
  },
  {
   "cell_type": "code",
   "execution_count": 14,
   "metadata": {},
   "outputs": [
    {
     "name": "stdout",
     "output_type": "stream",
     "text": [
      "File downloaded successfully.\n"
     ]
    },
    {
     "data": {
      "text/html": [
       "<div>\n",
       "<style scoped>\n",
       "    .dataframe tbody tr th:only-of-type {\n",
       "        vertical-align: middle;\n",
       "    }\n",
       "\n",
       "    .dataframe tbody tr th {\n",
       "        vertical-align: top;\n",
       "    }\n",
       "\n",
       "    .dataframe thead th {\n",
       "        text-align: right;\n",
       "    }\n",
       "</style>\n",
       "<table border=\"1\" class=\"dataframe\">\n",
       "  <thead>\n",
       "    <tr style=\"text-align: right;\">\n",
       "      <th></th>\n",
       "      <th>subject</th>\n",
       "      <th>gender</th>\n",
       "      <th>age</th>\n",
       "      <th>hsgpa</th>\n",
       "      <th>cogpa</th>\n",
       "      <th>dhome</th>\n",
       "      <th>dres</th>\n",
       "      <th>tv</th>\n",
       "      <th>sport</th>\n",
       "      <th>news</th>\n",
       "      <th>aids</th>\n",
       "      <th>veg</th>\n",
       "      <th>affil</th>\n",
       "      <th>ideol</th>\n",
       "      <th>relig</th>\n",
       "      <th>abor</th>\n",
       "      <th>affirm</th>\n",
       "      <th>life</th>\n",
       "    </tr>\n",
       "  </thead>\n",
       "  <tbody>\n",
       "    <tr>\n",
       "      <th>0</th>\n",
       "      <td>1</td>\n",
       "      <td>0</td>\n",
       "      <td>32</td>\n",
       "      <td>2.2</td>\n",
       "      <td>3.5</td>\n",
       "      <td>0</td>\n",
       "      <td>5.0</td>\n",
       "      <td>3.0</td>\n",
       "      <td>5</td>\n",
       "      <td>0</td>\n",
       "      <td>0</td>\n",
       "      <td>0</td>\n",
       "      <td>2</td>\n",
       "      <td>6</td>\n",
       "      <td>2</td>\n",
       "      <td>0</td>\n",
       "      <td>0</td>\n",
       "      <td>1</td>\n",
       "    </tr>\n",
       "    <tr>\n",
       "      <th>1</th>\n",
       "      <td>2</td>\n",
       "      <td>1</td>\n",
       "      <td>23</td>\n",
       "      <td>2.1</td>\n",
       "      <td>3.5</td>\n",
       "      <td>1200</td>\n",
       "      <td>0.3</td>\n",
       "      <td>15.0</td>\n",
       "      <td>7</td>\n",
       "      <td>5</td>\n",
       "      <td>6</td>\n",
       "      <td>1</td>\n",
       "      <td>1</td>\n",
       "      <td>2</td>\n",
       "      <td>1</td>\n",
       "      <td>1</td>\n",
       "      <td>1</td>\n",
       "      <td>3</td>\n",
       "    </tr>\n",
       "    <tr>\n",
       "      <th>2</th>\n",
       "      <td>3</td>\n",
       "      <td>1</td>\n",
       "      <td>27</td>\n",
       "      <td>3.3</td>\n",
       "      <td>3.0</td>\n",
       "      <td>1300</td>\n",
       "      <td>1.5</td>\n",
       "      <td>0.0</td>\n",
       "      <td>4</td>\n",
       "      <td>3</td>\n",
       "      <td>0</td>\n",
       "      <td>1</td>\n",
       "      <td>1</td>\n",
       "      <td>2</td>\n",
       "      <td>2</td>\n",
       "      <td>1</td>\n",
       "      <td>1</td>\n",
       "      <td>3</td>\n",
       "    </tr>\n",
       "    <tr>\n",
       "      <th>3</th>\n",
       "      <td>4</td>\n",
       "      <td>1</td>\n",
       "      <td>35</td>\n",
       "      <td>3.5</td>\n",
       "      <td>3.2</td>\n",
       "      <td>1500</td>\n",
       "      <td>8.0</td>\n",
       "      <td>5.0</td>\n",
       "      <td>5</td>\n",
       "      <td>6</td>\n",
       "      <td>3</td>\n",
       "      <td>0</td>\n",
       "      <td>3</td>\n",
       "      <td>4</td>\n",
       "      <td>1</td>\n",
       "      <td>1</td>\n",
       "      <td>1</td>\n",
       "      <td>2</td>\n",
       "    </tr>\n",
       "    <tr>\n",
       "      <th>4</th>\n",
       "      <td>5</td>\n",
       "      <td>0</td>\n",
       "      <td>23</td>\n",
       "      <td>3.1</td>\n",
       "      <td>3.5</td>\n",
       "      <td>1600</td>\n",
       "      <td>10.0</td>\n",
       "      <td>6.0</td>\n",
       "      <td>6</td>\n",
       "      <td>3</td>\n",
       "      <td>0</td>\n",
       "      <td>0</td>\n",
       "      <td>3</td>\n",
       "      <td>1</td>\n",
       "      <td>0</td>\n",
       "      <td>1</td>\n",
       "      <td>0</td>\n",
       "      <td>2</td>\n",
       "    </tr>\n",
       "  </tbody>\n",
       "</table>\n",
       "</div>"
      ],
      "text/plain": [
       "   subject  gender  age  hsgpa  cogpa  dhome  dres    tv  sport  news  aids  \\\n",
       "0        1       0   32    2.2    3.5      0   5.0   3.0      5     0     0   \n",
       "1        2       1   23    2.1    3.5   1200   0.3  15.0      7     5     6   \n",
       "2        3       1   27    3.3    3.0   1300   1.5   0.0      4     3     0   \n",
       "3        4       1   35    3.5    3.2   1500   8.0   5.0      5     6     3   \n",
       "4        5       0   23    3.1    3.5   1600  10.0   6.0      6     3     0   \n",
       "\n",
       "   veg  affil  ideol  relig  abor  affirm  life  \n",
       "0    0      2      6      2     0       0     1  \n",
       "1    1      1      2      1     1       1     3  \n",
       "2    1      1      2      2     1       1     3  \n",
       "3    0      3      4      1     1       1     2  \n",
       "4    0      3      1      0     1       0     2  "
      ]
     },
     "metadata": {},
     "output_type": "display_data"
    },
    {
     "name": "stdout",
     "output_type": "stream",
     "text": [
      " \n",
      "    Null Hypothesis: Population Mean is 0.40 which is a Moderate Response. \n",
      "    \n",
      "    Alternative Hypothesis: Population Mean is not 0.40 which is not a Moderate Response. \n",
      "    \n",
      "Mean: 3.033\n",
      "T-statistic: -4.577\n",
      "P-value: 0.0000\n",
      " \n",
      "                    --> Null Hypothesis is rejected \n",
      "              \n"
     ]
    }
   ],
   "source": [
    "## Download the File from the External URL using the code below\n",
    "\n",
    "import requests\n",
    "import os\n",
    "import pandas as pd\n",
    "from IPython.display import display\n",
    "from scipy import stats\n",
    "import numpy as np\n",
    "\n",
    "\n",
    "## Specify the File URL & Local File Name\n",
    "data_url = \"http://stat4ds.rwth-aachen.de/data/Students.dat\"\n",
    "file_name = \"Students.dat\"\n",
    "\n",
    "try:\n",
    "    response = requests.get(data_url)\n",
    "    response.raise_for_status()\n",
    "except requests.HTTPError as e:\n",
    "    print(\"HTTP error occurred:\", e)\n",
    "\n",
    "## Write to the File locally\n",
    "with open(file_name, \"wb\") as f:\n",
    "    f.write(response.content)\n",
    "\n",
    "## Verify if the file got downloaded successfully or not\n",
    "if file_name in os.listdir('.'):\n",
    "    print(\"File downloaded successfully.\")\n",
    "    \n",
    "    ## Read the file with multiple space delimiter & Print the Sample data\n",
    "    df_student = pd.read_csv(file_name, sep=r'\\s+', engine='python')\n",
    "    display(df_student.head())\n",
    "\n",
    "    ## Drop missing values in the 'ideol' column\n",
    "    ideology = df_student['ideol'].dropna()\n",
    "\n",
    "    print(f\"\"\" \n",
    "    Null Hypothesis: Population Mean is 0.40 which is a Moderate Response. \n",
    "    \n",
    "    Alternative Hypothesis: Population Mean is not 0.40 which is not a Moderate Response. \n",
    "    \"\"\")\n",
    "\n",
    "    ## t-test against the null hypothesis mean of 4.0\n",
    "    t_stat, p_value = stats.ttest_1samp(ideology, popmean=4.0)\n",
    "\n",
    "    mean_ideology = ideology.mean()\n",
    "    print(f\"Mean: {mean_ideology:.3f}\")\n",
    "    print(f\"T-statistic: {t_stat:.3f}\")\n",
    "    print(f\"P-value: {p_value:.4f}\")\n",
    "\n",
    "    if p_value < 0.05:\n",
    "        print(f\"\"\" \n",
    "                    --> Null Hypothesis is rejected \n",
    "              \"\"\")\n",
    "    else:\n",
    "        print(f\"\"\" \n",
    "                    --> Null Hypothesis is accepted \n",
    "              \"\"\")\n",
    "\n",
    "\n",
    "else:\n",
    "    print(\"File not found.\")\n",
    "    "
   ]
  },
  {
   "cell_type": "markdown",
   "metadata": {},
   "source": [
    "(b) Construct the 95% confidence interval for $\\mu$. Explain how results relate to those of the\n",
    "test in (a).\n"
   ]
  },
  {
   "cell_type": "markdown",
   "metadata": {},
   "source": [
    "**Answer Below:**"
   ]
  },
  {
   "cell_type": "code",
   "execution_count": 15,
   "metadata": {},
   "outputs": [
    {
     "name": "stdout",
     "output_type": "stream",
     "text": [
      "95% Confidence Interval: (2.611, 3.456)\n"
     ]
    }
   ],
   "source": [
    "# Descriptive stats\n",
    "ideology_mean = ideology.mean()\n",
    "ideology_std = ideology.std()\n",
    "size = len(ideology)\n",
    "standard_error = ideology_std / np.sqrt(size)\n",
    "\n",
    "# t critical value\n",
    "t_critical = stats.t.ppf(0.975, df=size-1)  # two-tailed, 95% CI\n",
    "\n",
    "# Confidence Interval\n",
    "ci_lower = ideology_mean - t_critical * standard_error\n",
    "ci_upper = ideology_mean + t_critical * standard_error\n",
    "\n",
    "print(f\"95% Confidence Interval: ({ci_lower:.3f}, {ci_upper:.3f})\")"
   ]
  },
  {
   "cell_type": "markdown",
   "metadata": {},
   "source": [
    "**Since from above we are 95% confident that the True average political ideology for students is between 2.61 and 3.45. \n",
    "The whole range is below 4 and so it rejects the null hypothesis which was also proved in section a.**"
   ]
  },
  {
   "cell_type": "markdown",
   "metadata": {},
   "source": [
    "## Problem 5.10."
   ]
  },
  {
   "cell_type": "markdown",
   "metadata": {},
   "source": [
    "A study of sheep mentioned in Exercise 1.27 analyzed whether the sheep survived for a year\n",
    "from the original observation time (1 = yes, 0 = no) as a function of their weight (*kg*) at the\n",
    "original observation. Stating any assumptions including the conceptual population of interest,\n",
    "use a *t* test with the data in the Sheep data file at the text website to compare mean weights\n",
    "of the sheep that survived and did not survive. Interpret the *P*-value."
   ]
  },
  {
   "cell_type": "markdown",
   "metadata": {},
   "source": [
    "`Your answer goes here`"
   ]
  },
  {
   "cell_type": "code",
   "execution_count": null,
   "metadata": {},
   "outputs": [],
   "source": []
  },
  {
   "cell_type": "markdown",
   "metadata": {},
   "source": [
    "## Problem 5.11."
   ]
  },
  {
   "cell_type": "markdown",
   "metadata": {},
   "source": [
    "Use descriptive statistics and significance tests to compare the population mean political ideology for each pair of groups in Table 5.2 using the `Polid` data file. Summarize results using\n",
    "*P*-values and using a non-technical explanation."
   ]
  },
  {
   "cell_type": "markdown",
   "metadata": {},
   "source": [
    "`Your answer goes here`"
   ]
  },
  {
   "cell_type": "code",
   "execution_count": 19,
   "metadata": {},
   "outputs": [
    {
     "name": "stdout",
     "output_type": "stream",
     "text": [
      "File downloaded successfully.\n"
     ]
    },
    {
     "data": {
      "text/html": [
       "<div>\n",
       "<style scoped>\n",
       "    .dataframe tbody tr th:only-of-type {\n",
       "        vertical-align: middle;\n",
       "    }\n",
       "\n",
       "    .dataframe tbody tr th {\n",
       "        vertical-align: top;\n",
       "    }\n",
       "\n",
       "    .dataframe thead th {\n",
       "        text-align: right;\n",
       "    }\n",
       "</style>\n",
       "<table border=\"1\" class=\"dataframe\">\n",
       "  <thead>\n",
       "    <tr style=\"text-align: right;\">\n",
       "      <th></th>\n",
       "      <th>race</th>\n",
       "      <th>ideology</th>\n",
       "    </tr>\n",
       "  </thead>\n",
       "  <tbody>\n",
       "    <tr>\n",
       "      <th>1</th>\n",
       "      <td>hispanic</td>\n",
       "      <td>1</td>\n",
       "    </tr>\n",
       "    <tr>\n",
       "      <th>2</th>\n",
       "      <td>hispanic</td>\n",
       "      <td>1</td>\n",
       "    </tr>\n",
       "    <tr>\n",
       "      <th>3</th>\n",
       "      <td>hispanic</td>\n",
       "      <td>1</td>\n",
       "    </tr>\n",
       "    <tr>\n",
       "      <th>4</th>\n",
       "      <td>hispanic</td>\n",
       "      <td>1</td>\n",
       "    </tr>\n",
       "    <tr>\n",
       "      <th>5</th>\n",
       "      <td>hispanic</td>\n",
       "      <td>1</td>\n",
       "    </tr>\n",
       "  </tbody>\n",
       "</table>\n",
       "</div>"
      ],
      "text/plain": [
       "       race  ideology\n",
       "1  hispanic         1\n",
       "2  hispanic         1\n",
       "3  hispanic         1\n",
       "4  hispanic         1\n",
       "5  hispanic         1"
      ]
     },
     "metadata": {},
     "output_type": "display_data"
    }
   ],
   "source": [
    "## Download the File from the External URL using the code below\n",
    "\n",
    "import requests\n",
    "import os\n",
    "import pandas as pd\n",
    "from IPython.display import display\n",
    "from scipy import stats\n",
    "import numpy as np\n",
    "\n",
    "\n",
    "## Specify the File URL & Local File Name\n",
    "data_url = \"http://stat4ds.rwth-aachen.de/data/Polid.dat\"\n",
    "file_name = \"Polid.dat\"\n",
    "\n",
    "try:\n",
    "    response = requests.get(data_url)\n",
    "    response.raise_for_status()\n",
    "except requests.HTTPError as e:\n",
    "    print(\"HTTP error occurred:\", e)\n",
    "\n",
    "## Write to the File locally\n",
    "with open(file_name, \"wb\") as f:\n",
    "    f.write(response.content)\n",
    "\n",
    "## Verify if the file got downloaded successfully or not\n",
    "if file_name in os.listdir('.'):\n",
    "    print(\"File downloaded successfully.\")\n",
    "    \n",
    "    ## Read the file with multiple space delimiter & Print the Sample data\n",
    "    df_Polid = pd.read_csv(file_name, sep=r'\\s+', engine='python')\n",
    "    display(df_Polid.head())\n",
    "\n",
    "else:\n",
    "    print(\"File not found.\")"
   ]
  },
  {
   "cell_type": "code",
   "execution_count": 22,
   "metadata": {},
   "outputs": [
    {
     "data": {
      "text/html": [
       "<div>\n",
       "<style scoped>\n",
       "    .dataframe tbody tr th:only-of-type {\n",
       "        vertical-align: middle;\n",
       "    }\n",
       "\n",
       "    .dataframe tbody tr th {\n",
       "        vertical-align: top;\n",
       "    }\n",
       "\n",
       "    .dataframe thead th {\n",
       "        text-align: right;\n",
       "    }\n",
       "</style>\n",
       "<table border=\"1\" class=\"dataframe\">\n",
       "  <thead>\n",
       "    <tr style=\"text-align: right;\">\n",
       "      <th></th>\n",
       "      <th>race</th>\n",
       "      <th>ideology</th>\n",
       "    </tr>\n",
       "  </thead>\n",
       "  <tbody>\n",
       "    <tr>\n",
       "      <th>count</th>\n",
       "      <td>2575</td>\n",
       "      <td>2575.000000</td>\n",
       "    </tr>\n",
       "    <tr>\n",
       "      <th>unique</th>\n",
       "      <td>3</td>\n",
       "      <td>NaN</td>\n",
       "    </tr>\n",
       "    <tr>\n",
       "      <th>top</th>\n",
       "      <td>white</td>\n",
       "      <td>NaN</td>\n",
       "    </tr>\n",
       "    <tr>\n",
       "      <th>freq</th>\n",
       "      <td>1835</td>\n",
       "      <td>NaN</td>\n",
       "    </tr>\n",
       "    <tr>\n",
       "      <th>mean</th>\n",
       "      <td>NaN</td>\n",
       "      <td>4.107961</td>\n",
       "    </tr>\n",
       "    <tr>\n",
       "      <th>std</th>\n",
       "      <td>NaN</td>\n",
       "      <td>1.424613</td>\n",
       "    </tr>\n",
       "    <tr>\n",
       "      <th>min</th>\n",
       "      <td>NaN</td>\n",
       "      <td>1.000000</td>\n",
       "    </tr>\n",
       "    <tr>\n",
       "      <th>25%</th>\n",
       "      <td>NaN</td>\n",
       "      <td>3.000000</td>\n",
       "    </tr>\n",
       "    <tr>\n",
       "      <th>50%</th>\n",
       "      <td>NaN</td>\n",
       "      <td>4.000000</td>\n",
       "    </tr>\n",
       "    <tr>\n",
       "      <th>75%</th>\n",
       "      <td>NaN</td>\n",
       "      <td>5.000000</td>\n",
       "    </tr>\n",
       "    <tr>\n",
       "      <th>max</th>\n",
       "      <td>NaN</td>\n",
       "      <td>7.000000</td>\n",
       "    </tr>\n",
       "  </tbody>\n",
       "</table>\n",
       "</div>"
      ],
      "text/plain": [
       "         race     ideology\n",
       "count    2575  2575.000000\n",
       "unique      3          NaN\n",
       "top     white          NaN\n",
       "freq     1835          NaN\n",
       "mean      NaN     4.107961\n",
       "std       NaN     1.424613\n",
       "min       NaN     1.000000\n",
       "25%       NaN     3.000000\n",
       "50%       NaN     4.000000\n",
       "75%       NaN     5.000000\n",
       "max       NaN     7.000000"
      ]
     },
     "execution_count": 22,
     "metadata": {},
     "output_type": "execute_result"
    }
   ],
   "source": [
    "## Descriptive Statistics as below\n",
    "df_Polid.describe(include=\"all\")"
   ]
  },
  {
   "cell_type": "code",
   "execution_count": 24,
   "metadata": {},
   "outputs": [
    {
     "name": "stdout",
     "output_type": "stream",
     "text": [
      "Descriptive Statistics by Race:\n",
      "               mean       std  count\n",
      "race                               \n",
      "black     3.816712  1.298165    371\n",
      "hispanic  4.089431  1.339258    369\n",
      "white     4.170572  1.458553   1835\n",
      "\n",
      "Pairwise t-tests:\n",
      "hispanic vs black: t = 2.812, p = 0.0050 (Significant)\n",
      "hispanic vs white: t = -1.046, p = 0.2961 (Not significant)\n",
      "black vs white: t = -4.686, p = 0.0000 (Significant)\n"
     ]
    }
   ],
   "source": [
    "import scipy.stats as stats\n",
    "import itertools\n",
    "import pandas as pd\n",
    "\n",
    "# Drop rows with missing values in required columns\n",
    "df_Polid = df_Polid.dropna(subset=['ideology', 'race'])\n",
    "\n",
    "# Get descriptive statistics\n",
    "desc_stats = df_Polid.groupby('race')['ideology'].agg(['mean', 'std', 'count'])\n",
    "print(\"Descriptive Statistics by Race:\\n\", desc_stats)\n",
    "\n",
    "# Get unique races\n",
    "races = df_Polid['race'].unique()\n",
    "\n",
    "# Pairwise t-tests\n",
    "print(\"\\nPairwise t-tests:\")\n",
    "for race1, race2 in itertools.combinations(races, 2):\n",
    "    group1 = df_Polid[df_Polid['race'] == race1]['ideology']\n",
    "    group2 = df_Polid[df_Polid['race'] == race2]['ideology']\n",
    "    \n",
    "    # Perform independent two-sample t-test\n",
    "    t_stat, p_value = stats.ttest_ind(group1, group2, equal_var=False)\n",
    "    \n",
    "    print(f\"{race1} vs {race2}: t = {t_stat:.3f}, p = {p_value:.4f} {'(Significant)' if p_value < 0.05 else '(Not significant)'}\")\n"
   ]
  },
  {
   "cell_type": "markdown",
   "metadata": {},
   "source": [
    "## Problem 5.14 (a)."
   ]
  },
  {
   "cell_type": "markdown",
   "metadata": {},
   "source": [
    "The `Income` data file at the book’s website shows annual incomes in thousands of dollars for\n",
    "subjects in three racial-ethnic groups in the U.S."
   ]
  },
  {
   "cell_type": "markdown",
   "metadata": {},
   "source": [
    "(a) Stating all assumptions including the relative importance of each, show all steps of a significance test for comparing population mean incomes of Blacks and Hispanics. Interpret.\n"
   ]
  },
  {
   "cell_type": "markdown",
   "metadata": {},
   "source": [
    "`Your answer goes here`"
   ]
  },
  {
   "cell_type": "code",
   "execution_count": 16,
   "metadata": {},
   "outputs": [
    {
     "name": "stdout",
     "output_type": "stream",
     "text": [
      "File downloaded successfully.\n"
     ]
    },
    {
     "data": {
      "text/html": [
       "<div>\n",
       "<style scoped>\n",
       "    .dataframe tbody tr th:only-of-type {\n",
       "        vertical-align: middle;\n",
       "    }\n",
       "\n",
       "    .dataframe tbody tr th {\n",
       "        vertical-align: top;\n",
       "    }\n",
       "\n",
       "    .dataframe thead th {\n",
       "        text-align: right;\n",
       "    }\n",
       "</style>\n",
       "<table border=\"1\" class=\"dataframe\">\n",
       "  <thead>\n",
       "    <tr style=\"text-align: right;\">\n",
       "      <th></th>\n",
       "      <th>income</th>\n",
       "      <th>education</th>\n",
       "      <th>race</th>\n",
       "    </tr>\n",
       "  </thead>\n",
       "  <tbody>\n",
       "    <tr>\n",
       "      <th>0</th>\n",
       "      <td>16</td>\n",
       "      <td>10</td>\n",
       "      <td>B</td>\n",
       "    </tr>\n",
       "    <tr>\n",
       "      <th>1</th>\n",
       "      <td>18</td>\n",
       "      <td>7</td>\n",
       "      <td>B</td>\n",
       "    </tr>\n",
       "    <tr>\n",
       "      <th>2</th>\n",
       "      <td>26</td>\n",
       "      <td>9</td>\n",
       "      <td>B</td>\n",
       "    </tr>\n",
       "    <tr>\n",
       "      <th>3</th>\n",
       "      <td>16</td>\n",
       "      <td>11</td>\n",
       "      <td>B</td>\n",
       "    </tr>\n",
       "    <tr>\n",
       "      <th>4</th>\n",
       "      <td>34</td>\n",
       "      <td>14</td>\n",
       "      <td>B</td>\n",
       "    </tr>\n",
       "  </tbody>\n",
       "</table>\n",
       "</div>"
      ],
      "text/plain": [
       "   income  education race\n",
       "0      16         10    B\n",
       "1      18          7    B\n",
       "2      26          9    B\n",
       "3      16         11    B\n",
       "4      34         14    B"
      ]
     },
     "metadata": {},
     "output_type": "display_data"
    }
   ],
   "source": [
    "## Download the File from the External URL using the code below\n",
    "\n",
    "import requests\n",
    "import os\n",
    "import pandas as pd\n",
    "from IPython.display import display\n",
    "from scipy import stats\n",
    "import numpy as np\n",
    "\n",
    "\n",
    "## Specify the File URL & Local File Name\n",
    "data_url = \"http://stat4ds.rwth-aachen.de/data/Income.dat\"\n",
    "file_name = \"Income.dat\"\n",
    "\n",
    "try:\n",
    "    response = requests.get(data_url)\n",
    "    response.raise_for_status()\n",
    "except requests.HTTPError as e:\n",
    "    print(\"HTTP error occurred:\", e)\n",
    "\n",
    "## Write to the File locally\n",
    "with open(file_name, \"wb\") as f:\n",
    "    f.write(response.content)\n",
    "\n",
    "## Verify if the file got downloaded successfully or not\n",
    "if file_name in os.listdir('.'):\n",
    "    print(\"File downloaded successfully.\")\n",
    "    \n",
    "    ## Read the file with multiple space delimiter & Print the Sample data\n",
    "    df_Income = pd.read_csv(file_name, sep=r'\\s+', engine='python')\n",
    "    display(df_Income.head())\n",
    "\n",
    "else:\n",
    "    print(\"File not found.\")"
   ]
  },
  {
   "cell_type": "code",
   "execution_count": 18,
   "metadata": {},
   "outputs": [
    {
     "name": "stdout",
     "output_type": "stream",
     "text": [
      "Mean (Black): 27.75K, n = 16\n",
      "Mean (Hispanic): 31.00K, n = 14\n",
      "T-statistic: -0.681\n",
      "P-value: 0.5013\n"
     ]
    }
   ],
   "source": [
    "import pandas as pd\n",
    "from scipy.stats import ttest_ind\n",
    "\n",
    "# Filter data\n",
    "b_income = df_Income[df_Income['race'] == 'B']['income']\n",
    "h_income = df_Income[df_Income['race'] == 'H']['income']\n",
    "\n",
    "# Perform Welch's t-test (assumes unequal variances)\n",
    "t_stat, p_value = ttest_ind(b_income, h_income, equal_var=False)\n",
    "\n",
    "# Summary\n",
    "black_mean = b_income.mean()\n",
    "hispanic_mean = h_income.mean()\n",
    "black_size = len(b_income)\n",
    "hispanic_size = len(h_income)\n",
    "\n",
    "print(f\"Mean (Black): {black_mean:.2f}K, n = {black_size}\")\n",
    "print(f\"Mean (Hispanic): {hispanic_mean:.2f}K, n = {hispanic_size}\")\n",
    "print(f\"T-statistic: {t_stat:.3f}\")\n",
    "print(f\"P-value: {p_value:.4f}\")\n"
   ]
  },
  {
   "cell_type": "markdown",
   "metadata": {},
   "source": [
    "**Since P value is much higher than 0.05 signifance value, we fail to reject null hypothesis. Meaning there is no statistical significant difference in income of Black vs Hispanic in the Sample Dataset.** "
   ]
  },
  {
   "cell_type": "markdown",
   "metadata": {},
   "source": [
    "## Problem 5.15."
   ]
  },
  {
   "cell_type": "markdown",
   "metadata": {},
   "source": [
    "A recent report $\\text{}^{39}$ estimated mean adult heights in the U.S. of 175.4 *cm* (69.1 inches) for men\n",
    "and 161.7 *cm* (63.7 inches) for women, with standard deviation about 7 *cm* for each group. For\n",
    "all finishers in the Boston Marathon since 1972, the time to finish has a mean of 221 minutes\n",
    "for men and 248 minutes for women, each with a standard deviation of about 40 minutes.\n",
    "According to the effect size, is the difference between men and women greater for height or for\n",
    "marathon times? Explain."
   ]
  },
  {
   "cell_type": "markdown",
   "metadata": {},
   "source": [
    "`Your answer goes here`"
   ]
  },
  {
   "cell_type": "code",
   "execution_count": 26,
   "metadata": {},
   "outputs": [
    {
     "name": "stdout",
     "output_type": "stream",
     "text": [
      "Cohen's d for height: 1.96\n",
      "Cohen's d for marathon time: 0.68\n"
     ]
    }
   ],
   "source": [
    "def func_cohen_d(mean_group1, mean_group2, stddev):\n",
    "    \"\"\"Calculate Cohen's d for two means with equal standard deviation\"\"\"\n",
    "    return abs(mean_group1 - mean_group2) / stddev\n",
    "\n",
    "## Height data\n",
    "men_height_mean = 175.4\n",
    "women_height_mean = 161.7\n",
    "height_stddev = 7\n",
    "\n",
    "## Marathon time data\n",
    "men_marathon_time = 221\n",
    "women_marathon_time = 248\n",
    "marathon_time_stddev = 40\n",
    "\n",
    "# Calculate effect sizes\n",
    "cohen_d_height = func_cohen_d(men_height_mean, women_height_mean, height_stddev)\n",
    "cohen_d_marathon = func_cohen_d(men_marathon_time, women_marathon_time, marathon_time_stddev)\n",
    "\n",
    "# Print results\n",
    "print(f\"Cohen's d for height: {cohen_d_height:.2f}\")\n",
    "print(f\"Cohen's d for marathon time: {cohen_d_marathon:.2f}\")\n"
   ]
  },
  {
   "cell_type": "markdown",
   "metadata": {},
   "source": [
    "**It indicates that the gender difference has greater impact on height compare to marathon times**"
   ]
  },
  {
   "cell_type": "markdown",
   "metadata": {},
   "source": [
    "## Problem 5.17."
   ]
  },
  {
   "cell_type": "markdown",
   "metadata": {},
   "source": [
    "Ideally, results of a statistical analysis should not depend greatly on a single observation. In a\n",
    "sensitivity study, we re-do the analysis after deleting an outlier from the data set or changing its\n",
    "value to a more typical value and checking whether results change much. For the anorexia data\n",
    "analysis in Section 5.3.2, the weight change of 20.9 pounds for the cb group was a severe outlier.\n",
    "Suppose this observation was actually 2.9 pounds but recorded incorrectly. Find the *P*-value\n",
    "for testing $H_0: \\mu1 = \\mu2$ against $H_a: \\mu1 \\ne \\mu2$ with and without that observation. Summarize its\n",
    "influence."
   ]
  },
  {
   "cell_type": "markdown",
   "metadata": {},
   "source": [
    "`Your answer goes here`"
   ]
  },
  {
   "cell_type": "code",
   "execution_count": 41,
   "metadata": {},
   "outputs": [
    {
     "name": "stdout",
     "output_type": "stream",
     "text": [
      "File downloaded successfully.\n"
     ]
    },
    {
     "data": {
      "text/html": [
       "<div>\n",
       "<style scoped>\n",
       "    .dataframe tbody tr th:only-of-type {\n",
       "        vertical-align: middle;\n",
       "    }\n",
       "\n",
       "    .dataframe tbody tr th {\n",
       "        vertical-align: top;\n",
       "    }\n",
       "\n",
       "    .dataframe thead th {\n",
       "        text-align: right;\n",
       "    }\n",
       "</style>\n",
       "<table border=\"1\" class=\"dataframe\">\n",
       "  <thead>\n",
       "    <tr style=\"text-align: right;\">\n",
       "      <th></th>\n",
       "      <th>subject</th>\n",
       "      <th>therapy</th>\n",
       "      <th>before</th>\n",
       "      <th>after</th>\n",
       "    </tr>\n",
       "  </thead>\n",
       "  <tbody>\n",
       "    <tr>\n",
       "      <th>0</th>\n",
       "      <td>1</td>\n",
       "      <td>cb</td>\n",
       "      <td>80.5</td>\n",
       "      <td>82.2</td>\n",
       "    </tr>\n",
       "    <tr>\n",
       "      <th>1</th>\n",
       "      <td>2</td>\n",
       "      <td>cb</td>\n",
       "      <td>84.9</td>\n",
       "      <td>85.6</td>\n",
       "    </tr>\n",
       "    <tr>\n",
       "      <th>2</th>\n",
       "      <td>3</td>\n",
       "      <td>cb</td>\n",
       "      <td>81.5</td>\n",
       "      <td>81.4</td>\n",
       "    </tr>\n",
       "    <tr>\n",
       "      <th>3</th>\n",
       "      <td>4</td>\n",
       "      <td>cb</td>\n",
       "      <td>82.6</td>\n",
       "      <td>81.9</td>\n",
       "    </tr>\n",
       "    <tr>\n",
       "      <th>4</th>\n",
       "      <td>5</td>\n",
       "      <td>cb</td>\n",
       "      <td>79.9</td>\n",
       "      <td>76.4</td>\n",
       "    </tr>\n",
       "  </tbody>\n",
       "</table>\n",
       "</div>"
      ],
      "text/plain": [
       "   subject therapy  before  after\n",
       "0        1      cb    80.5   82.2\n",
       "1        2      cb    84.9   85.6\n",
       "2        3      cb    81.5   81.4\n",
       "3        4      cb    82.6   81.9\n",
       "4        5      cb    79.9   76.4"
      ]
     },
     "metadata": {},
     "output_type": "display_data"
    }
   ],
   "source": [
    "## Download the File from the External URL using the code below\n",
    "\n",
    "import requests\n",
    "import os\n",
    "import pandas as pd\n",
    "from IPython.display import display\n",
    "from scipy import stats\n",
    "import numpy as np\n",
    "from io import StringIO\n",
    "\n",
    "\n",
    "## Specify the File URL & Local File Name\n",
    "data_url = \"http://stat4ds.rwth-aachen.de/data/Anorexia.dat\"\n",
    "file_name = \"Anorexia.dat\"\n",
    "\n",
    "try:\n",
    "    response = requests.get(data_url)\n",
    "    response.raise_for_status()\n",
    "except requests.HTTPError as e:\n",
    "    print(\"HTTP error occurred:\", e)\n",
    "\n",
    "## Write to the File locally\n",
    "with open(file_name, \"wb\") as f:\n",
    "    f.write(response.content)\n",
    "\n",
    "## Verify if the file got downloaded successfully or not\n",
    "if file_name in os.listdir('.'):\n",
    "    print(\"File downloaded successfully.\")\n",
    "    \n",
    "    ## Read the file with multiple space delimiter & Print the Sample data\n",
    "    df_Anorexia = pd.read_csv(file_name, sep=r'\\s+', engine='python')\n",
    "    display(df_Anorexia.head())\n",
    "\n",
    "else:\n",
    "    print(\"File not found.\")"
   ]
  },
  {
   "cell_type": "code",
   "execution_count": 43,
   "metadata": {},
   "outputs": [
    {
     "name": "stdout",
     "output_type": "stream",
     "text": [
      "Original P-value: 0.82893\n",
      "Corrected P-value: 0.82893\n",
      "The outlier did not materially affect the test result.\n"
     ]
    }
   ],
   "source": [
    "import pandas as pd\n",
    "from scipy.stats import ttest_ind\n",
    "\n",
    "\n",
    "\n",
    "df_Anorexia['weightChange'] = df_Anorexia['after'] - df_Anorexia['before']\n",
    "\n",
    "\n",
    "cb = df_Anorexia[df_Anorexia['therapy'] == 'cb'].copy()\n",
    "other = df_Anorexia[df_Anorexia['therapy'] != 'cb'].copy()\n",
    "\n",
    "\n",
    "t_stat_orig, p_val_orig = ttest_ind(cb['weightChange'], other['weightChange'], equal_var=False)\n",
    "\n",
    "print(f\"Original P-value: {p_val_orig:.5f}\")\n",
    "\n",
    "\n",
    "outlier_index = cb[cb['weightChange'] == 20.9].index\n",
    "df_Anorexia.loc[outlier_index, 'weightChange'] = 2.9\n",
    "\n",
    "\n",
    "cb_corr = df_Anorexia[df_Anorexia['therapy'] == 'cb']['weightChange']\n",
    "other_corr = df_Anorexia[df_Anorexia['therapy'] != 'cb']['weightChange']\n",
    "\n",
    "\n",
    "t_stat_corr, p_val_corr = ttest_ind(cb_corr, other_corr, equal_var=False)\n",
    "\n",
    "print(f\"Corrected P-value: {p_val_corr:.5f}\")\n",
    "\n",
    "\n",
    "if p_val_orig != p_val_corr:\n",
    "    print(f\"The outlier had a significant influence on the test result.\")\n",
    "else:\n",
    "    print(f\"The outlier did not materially affect the test result.\")\n",
    "\n",
    "\n",
    "### This portion of the Code was referred from ChatGPT for understanding and re-using most of this."
   ]
  },
  {
   "cell_type": "markdown",
   "metadata": {},
   "source": [
    "## Problem 5.19."
   ]
  },
  {
   "cell_type": "markdown",
   "metadata": {},
   "source": [
    "In the 2018 General Social Survey, when asked whether they believed in life after death, 1017 of 1178 females said *yes*, and 703 of 945 males said *yes*. Test that the population proportions are equal for females and males. Report and interpret the *P*-value."
   ]
  },
  {
   "cell_type": "markdown",
   "metadata": {},
   "source": [
    "`Your answer goes here`"
   ]
  },
  {
   "cell_type": "markdown",
   "metadata": {},
   "source": [
    "**Null Hypothesis: Proportion of Females believe in Life after Death is equal to Proportion of Male believe in Life After Death**\n",
    "\n",
    "**Alternative Hypothesis: Proportion of Females believe in Life after Death is not equal to Proportion of Male believe in Life After Death**"
   ]
  },
  {
   "cell_type": "code",
   "execution_count": 27,
   "metadata": {},
   "outputs": [
    {
     "name": "stdout",
     "output_type": "stream",
     "text": [
      "Z-statistic: 6.9726\n",
      "P-value: 3.111e-12\n"
     ]
    }
   ],
   "source": [
    "from scipy.stats import norm\n",
    "import numpy as np\n",
    "\n",
    "\n",
    "female_lifeAfterDeath, female_total = 1017, 1178  \n",
    "male_lifeAfterDeath, male_total = 703, 945    \n",
    "\n",
    "\n",
    "female_proportion = female_lifeAfterDeath / female_total\n",
    "male_proportion = male_lifeAfterDeath / male_total\n",
    "\n",
    "## Pooled proportion under H0\n",
    "pooled_proportion = (female_lifeAfterDeath + male_lifeAfterDeath) / (female_total + male_total)\n",
    "\n",
    "## Standard error\n",
    "standard_error = np.sqrt(pooled_proportion * (1 - pooled_proportion) * (1/female_total + 1/male_total))\n",
    "\n",
    "## Z statistic\n",
    "z_stat = (female_proportion - male_proportion) / standard_error\n",
    "\n",
    "## Two-tailed P-value\n",
    "p_value = 2 * (1 - norm.cdf(abs(z_stat)))\n",
    "\n",
    "print(f\"Z-statistic: {z_stat:.4f}\")\n",
    "print(f\"P-value: {p_value:.4g}\")\n"
   ]
  },
  {
   "cell_type": "markdown",
   "metadata": {},
   "source": [
    "**Since P-Value is very low compare to 0.05, null hypothesis is rejected. Meaning proportion of female believing in Life after death is higher compare to male**"
   ]
  },
  {
   "cell_type": "markdown",
   "metadata": {},
   "source": [
    "## Problem 5.23."
   ]
  },
  {
   "cell_type": "markdown",
   "metadata": {},
   "source": [
    "Use the `Happy` data file from the 2018 General Social Survey at the text website to form a\n",
    "contingency table that cross classifies happiness with gender. For $ H_0 $: independence between\n",
    "happiness and gender:"
   ]
  },
  {
   "cell_type": "markdown",
   "metadata": {},
   "source": [
    "(a) Conduct and interpret the chi-squared test."
   ]
  },
  {
   "cell_type": "markdown",
   "metadata": {},
   "source": [
    "`Your answer goes here`"
   ]
  },
  {
   "cell_type": "code",
   "execution_count": 28,
   "metadata": {},
   "outputs": [
    {
     "name": "stdout",
     "output_type": "stream",
     "text": [
      "File downloaded successfully.\n"
     ]
    },
    {
     "data": {
      "text/html": [
       "<div>\n",
       "<style scoped>\n",
       "    .dataframe tbody tr th:only-of-type {\n",
       "        vertical-align: middle;\n",
       "    }\n",
       "\n",
       "    .dataframe tbody tr th {\n",
       "        vertical-align: top;\n",
       "    }\n",
       "\n",
       "    .dataframe thead th {\n",
       "        text-align: right;\n",
       "    }\n",
       "</style>\n",
       "<table border=\"1\" class=\"dataframe\">\n",
       "  <thead>\n",
       "    <tr style=\"text-align: right;\">\n",
       "      <th></th>\n",
       "      <th>subject</th>\n",
       "      <th>happiness</th>\n",
       "      <th>marital</th>\n",
       "      <th>gender</th>\n",
       "    </tr>\n",
       "  </thead>\n",
       "  <tbody>\n",
       "    <tr>\n",
       "      <th>0</th>\n",
       "      <td>1</td>\n",
       "      <td>1</td>\n",
       "      <td>1</td>\n",
       "      <td>male</td>\n",
       "    </tr>\n",
       "    <tr>\n",
       "      <th>1</th>\n",
       "      <td>2</td>\n",
       "      <td>1</td>\n",
       "      <td>1</td>\n",
       "      <td>male</td>\n",
       "    </tr>\n",
       "    <tr>\n",
       "      <th>2</th>\n",
       "      <td>3</td>\n",
       "      <td>1</td>\n",
       "      <td>1</td>\n",
       "      <td>male</td>\n",
       "    </tr>\n",
       "    <tr>\n",
       "      <th>3</th>\n",
       "      <td>4</td>\n",
       "      <td>1</td>\n",
       "      <td>1</td>\n",
       "      <td>male</td>\n",
       "    </tr>\n",
       "    <tr>\n",
       "      <th>4</th>\n",
       "      <td>5</td>\n",
       "      <td>1</td>\n",
       "      <td>1</td>\n",
       "      <td>male</td>\n",
       "    </tr>\n",
       "  </tbody>\n",
       "</table>\n",
       "</div>"
      ],
      "text/plain": [
       "   subject  happiness  marital gender\n",
       "0        1          1        1   male\n",
       "1        2          1        1   male\n",
       "2        3          1        1   male\n",
       "3        4          1        1   male\n",
       "4        5          1        1   male"
      ]
     },
     "metadata": {},
     "output_type": "display_data"
    }
   ],
   "source": [
    "## Download the File from the External URL using the code below\n",
    "\n",
    "import requests\n",
    "import os\n",
    "import pandas as pd\n",
    "from IPython.display import display\n",
    "from scipy import stats\n",
    "import numpy as np\n",
    "\n",
    "\n",
    "## Specify the File URL & Local File Name\n",
    "data_url = \"http://stat4ds.rwth-aachen.de/data/Happy.dat\"\n",
    "file_name = \"Happy.dat\"\n",
    "\n",
    "try:\n",
    "    response = requests.get(data_url)\n",
    "    response.raise_for_status()\n",
    "except requests.HTTPError as e:\n",
    "    print(\"HTTP error occurred:\", e)\n",
    "\n",
    "## Write to the File locally\n",
    "with open(file_name, \"wb\") as f:\n",
    "    f.write(response.content)\n",
    "\n",
    "## Verify if the file got downloaded successfully or not\n",
    "if file_name in os.listdir('.'):\n",
    "    print(\"File downloaded successfully.\")\n",
    "    \n",
    "    ## Read the file with multiple space delimiter & Print the Sample data\n",
    "    df_Happy = pd.read_csv(file_name, sep=r'\\s+', engine='python')\n",
    "    display(df_Happy.head())\n",
    "\n",
    "else:\n",
    "    print(\"File not found.\")"
   ]
  },
  {
   "cell_type": "code",
   "execution_count": 35,
   "metadata": {},
   "outputs": [
    {
     "name": "stdout",
     "output_type": "stream",
     "text": [
      "1. Chi-square statistic: 0.9165\n",
      "2. Degrees of freedom: 2\n",
      "3. P-value: 0.6324\n",
      "\n",
      " => Fail to reject Null Hypothesis. Happiness and gender are independent on each other.\n"
     ]
    }
   ],
   "source": [
    "import pandas as pd\n",
    "import statsmodels.api as sm\n",
    "from statsmodels.stats.contingency_tables import Table2x2\n",
    "import scipy.stats as stats\n",
    "import matplotlib.pyplot as plt\n",
    "from statsmodels.graphics.mosaicplot import mosaic\n",
    "\n",
    "\n",
    "df_Happy = df_Happy.dropna(subset=['happiness', 'gender'])\n",
    "\n",
    "cont_table = pd.crosstab(df_Happy['happiness'], df_Happy['gender'])\n",
    "\n",
    "# Perform chi-squared test of independence\n",
    "chisquare, pvalue, degree_freedom, expected = stats.chi2_contingency(cont_table)\n",
    "print(f\"1. Chi-square statistic: {chisquare:.4f}\")\n",
    "print(f\"2. Degrees of freedom: {degree_freedom}\")\n",
    "print(f\"3. P-value: {pvalue:.4f}\")\n",
    "\n",
    "# Conclusion\n",
    "if chisquare_result.pvalue < 0.05:\n",
    "    print(\"\\n => Null Hypothesis Rejected. Happiness and gender are dependent on each other.\")\n",
    "else:\n",
    "    print(\"\\n => Fail to reject Null Hypothesis. Happiness and gender are independent on each other.\")"
   ]
  },
  {
   "cell_type": "markdown",
   "metadata": {},
   "source": [
    "(b) Show the estimated expected frequencies and standardized residuals, and form a mosaic\n",
    "plot. Explain how they are consistent with the result of the chi-squared test."
   ]
  },
  {
   "cell_type": "markdown",
   "metadata": {},
   "source": [
    "`Your answer goes here`"
   ]
  },
  {
   "cell_type": "code",
   "execution_count": 38,
   "metadata": {},
   "outputs": [
    {
     "name": "stdout",
     "output_type": "stream",
     "text": [
      "\n",
      "Expected Frequencies:\n",
      " gender         female        male\n",
      "happiness                        \n",
      "1          347.294118  300.705882\n",
      "2          640.457516  554.542484\n",
      "3          160.248366  138.751634\n",
      "\n",
      "Standardized Residuals:\n",
      " gender       female      male\n",
      "happiness                    \n",
      "1          0.306178 -0.329042\n",
      "2          0.060950 -0.065502\n",
      "3         -0.572589  0.615348\n"
     ]
    },
    {
     "data": {
      "text/plain": [
       "<Figure size 800x600 with 0 Axes>"
      ]
     },
     "metadata": {},
     "output_type": "display_data"
    },
    {
     "data": {
      "image/png": "[encoded data removed]",
      "text/plain": [
       "<Figure size 640x480 with 3 Axes>"
      ]
     },
     "metadata": {},
     "output_type": "display_data"
    }
   ],
   "source": [
    "\n",
    "expected_df = pd.DataFrame(expected, index=cont_table.index, columns=cont_table.columns)\n",
    "print(\"\\nExpected Frequencies:\\n\", expected_df)\n",
    "\n",
    "# Standardized residuals = (observed - expected) / sqrt(expected)\n",
    "std_residuals = (cont_table - expected_df) / np.sqrt(expected_df)\n",
    "print(\"\\nStandardized Residuals:\\n\", std_residuals)\n",
    "\n",
    "# Plot mosaic plot\n",
    "plt.figure(figsize=(8,6))\n",
    "mosaic(df_Happy, ['happiness', 'gender'], title='Mosaic Plot of Happiness vs Gender')\n",
    "plt.show()"
   ]
  },
  {
   "cell_type": "markdown",
   "metadata": {},
   "source": [
    "&nbsp;\n",
    "&nbsp;\n",
    "&nbsp;\n",
    "&nbsp;\n",
    "&nbsp;\n",
    "&nbsp;\n",
    "&nbsp;\n",
    "&nbsp;\n",
    "\n",
    "\n",
    "----------------\n",
    "$^{39}$ See www.cdc.gov/nchs/data/nhsr/nhsr122-508.pdf and https://doi.org/10.1371/journal.pone.  "
   ]
  }
 ],
 "metadata": {
  "kernelspec": {
   "display_name": "Python 3 (ipykernel)",
   "language": "python",
   "name": "python3"
  },
  "language_info": {
   "codemirror_mode": {
    "name": "ipython",
    "version": 3
   },
   "file_extension": ".py",
   "mimetype": "text/x-python",
   "name": "python",
   "nbconvert_exporter": "python",
   "pygments_lexer": "ipython3",
   "version": "3.12.7"
  },
  "vscode": {
   "interpreter": {
    "hash": "b61bb2d7a674932f79ec86662a4165aa288473e6e47a51dc8e3ab9a9cd94608c"
   }
  }
 },
 "nbformat": 4,
 "nbformat_minor": 4
}
